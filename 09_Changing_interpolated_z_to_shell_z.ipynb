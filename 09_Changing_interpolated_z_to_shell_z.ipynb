{
 "cells": [
  {
   "cell_type": "markdown",
   "id": "exciting-infrared",
   "metadata": {},
   "source": [
    "## 09. Changing redshifts to shell (snapshot) redshifts\n",
    "\n",
    "The $t_{MM}$ are calculated at the shells rather than the evolving positions of the halos. On the contrary, the redshifts are calculated for the individual halos are better resolved. This results in negative values of $t_{MM}$ that need to be corrected by converting the redshifts to shell redshifts.\n",
    "\n",
    "**Script written by**: Soumya Shreeram <br>\n",
    "**Project supervised by**: Johan Comparat <br>\n",
    "**Date**: 1st June 2021"
   ]
  },
  {
   "cell_type": "markdown",
   "id": "wired-portugal",
   "metadata": {},
   "source": [
    "Import required packages"
   ]
  },
  {
   "cell_type": "code",
   "execution_count": 1,
   "id": "technical-chapel",
   "metadata": {},
   "outputs": [],
   "source": [
    "# astropy modules\n",
    "import astropy.units as u\n",
    "import astropy.io.fits as fits\n",
    "\n",
    "from astropy.table import Table, Column\n",
    "from astropy.coordinates import SkyCoord\n",
    "from astropy.cosmology import FlatLambdaCDM, z_at_value\n",
    "\n",
    "import numpy as np\n",
    "\n",
    "# system imports\n",
    "import os\n",
    "import sys\n",
    "import importlib as ib\n",
    "\n",
    "# plotting imports\n",
    "import matplotlib\n",
    "import matplotlib.pyplot as plt\n",
    "import seaborn as sns\n",
    "from matplotlib.lines import Line2D\n",
    "\n",
    "from pandas import DataFrame\n",
    "from scipy.stats import gaussian_kde"
   ]
  },
  {
   "cell_type": "markdown",
   "id": "executive-forge",
   "metadata": {},
   "source": [
    "Load the imported file(s) that contains all the functions used in this notebooks"
   ]
  },
  {
   "cell_type": "code",
   "execution_count": 2,
   "id": "retired-hollow",
   "metadata": {},
   "outputs": [],
   "source": [
    "%matplotlib inline\n",
    "font = {'family' : 'serif',\n",
    "        'weight' : 'medium',\n",
    "        'size'   : 22}\n",
    "matplotlib.rc('font', **font)"
   ]
  },
  {
   "cell_type": "code",
   "execution_count": 3,
   "id": "varied-scroll",
   "metadata": {},
   "outputs": [],
   "source": [
    "sys.path.append('imported_files/')\n",
    "import Exploring_DM_Halos as edh\n",
    "import Agn_incidence_from_Major_Mergers as aimm\n",
    "import Comparison_simulation_with_literature_data as cswl\n",
    "import plotting_cswl05 as pt\n",
    "import Modelling_AGN_fractions_from_literature as mafl"
   ]
  },
  {
   "cell_type": "markdown",
   "id": "coral-uzbekistan",
   "metadata": {},
   "source": [
    "### 1. Defining input parameters"
   ]
  },
  {
   "cell_type": "code",
   "execution_count": 4,
   "id": "received-conversation",
   "metadata": {},
   "outputs": [],
   "source": [
    "# look back into redshifts until...\n",
    "redshift_limit = 2\n",
    "\n",
    "# pixel number from the simulation file\n",
    "pixel_no = '000000'\n",
    "\n",
    "# define color palatte\n",
    "pal = sns.hls_palette(10, h=.5, s=1).as_hex()\n",
    "sns.set_context(\"paper\", font_scale=2, rc={\"lines.linewidth\":2})"
   ]
  },
  {
   "cell_type": "markdown",
   "id": "square-attack",
   "metadata": {},
   "source": [
    "Define cosmology used in the notebook"
   ]
  },
  {
   "cell_type": "code",
   "execution_count": 5,
   "id": "eleven-software",
   "metadata": {},
   "outputs": [],
   "source": [
    "cosmo = FlatLambdaCDM(H0=67.77*u.km/u.s/u.Mpc, Om0=0.307115)\n",
    "h = 0.6777\n",
    "L_box = 1000.0 / h\n",
    "\n",
    "vol = cosmo.comoving_volume(redshift_limit)*(53)/(129600/np.pi)"
   ]
  },
  {
   "cell_type": "markdown",
   "id": "beautiful-garden",
   "metadata": {},
   "source": [
    "Parameters for creating the Major Merger catalogue."
   ]
  },
  {
   "cell_type": "code",
   "execution_count": 6,
   "id": "detailed-reputation",
   "metadata": {},
   "outputs": [],
   "source": [
    "# get shell volume and projected radius bins [Mpc]\n",
    "r_p, shell_volume = aimm.shellVolume()\n",
    "\n",
    "# max mass ratio to classify as a major merger [dimensionless]\n",
    "mass_max = 3\n",
    "\n",
    "# defining the redshift bin for a merger in terms of dv = c*z [km/s]\n",
    "dz_cut = 0.001"
   ]
  },
  {
   "cell_type": "markdown",
   "id": "veterinary-federal",
   "metadata": {},
   "source": [
    "Booleans if one wants to skip running parts of the code"
   ]
  },
  {
   "cell_type": "markdown",
   "id": "exciting-destruction",
   "metadata": {},
   "source": [
    "### 2. Open files and get relevant data"
   ]
  },
  {
   "cell_type": "code",
   "execution_count": 7,
   "id": "supposed-bones",
   "metadata": {},
   "outputs": [],
   "source": [
    "hd_agn, hd_halo, _ = edh.getHeaders(pixel_no, np.array(['agn', 'halo']))"
   ]
  },
  {
   "cell_type": "markdown",
   "id": "blind-characterization",
   "metadata": {},
   "source": [
    "Extracting positions and redshifts of the AGNs, galaxies, and halos"
   ]
  },
  {
   "cell_type": "code",
   "execution_count": 8,
   "id": "silver-bullet",
   "metadata": {},
   "outputs": [
    {
     "name": "stdout",
     "output_type": "stream",
     "text": [
      "Halos: 4506611\n"
     ]
    }
   ],
   "source": [
    "# halos\n",
    "_, _, conditions_halo = edh.getGalaxyData(hd_halo, '', redshift_limit)\n",
    "\n",
    "# agns\n",
    "_, _, conditions_agn = edh.getAgnData(hd_agn, agn_FX_soft=0, redshift_limit=redshift_limit)    \n",
    "\n",
    "hd_z_halo = hd_halo[conditions_halo]\n",
    "hd_z_agn = hd_agn[conditions_agn]\n",
    "\n",
    "print(\"Halos: %d\"%(len(hd_z_halo) ))"
   ]
  },
  {
   "cell_type": "code",
   "execution_count": 9,
   "id": "tested-quarter",
   "metadata": {},
   "outputs": [
    {
     "name": "stdout",
     "output_type": "stream",
     "text": [
      "Agn: 1076520. 23.89 % of the halos are currently assigned AGNs\n"
     ]
    }
   ],
   "source": [
    "print(\"Agn: %d. %.2f %s of the halos are currently assigned AGNs\"%(len(hd_z_agn), (100*len(hd_z_agn)/len(hd_z_halo)), '%'))"
   ]
  },
  {
   "cell_type": "markdown",
   "id": "worst-enough",
   "metadata": {},
   "source": [
    "Load the file that has the information about the snapshots"
   ]
  },
  {
   "cell_type": "markdown",
   "id": "refined-taxation",
   "metadata": {},
   "source": [
    "### 3. Correcting redshifts, and obtaining $t_{\\rm MM}$"
   ]
  },
  {
   "cell_type": "code",
   "execution_count": 11,
   "id": "raised-thing",
   "metadata": {},
   "outputs": [],
   "source": [
    "zsnap_halo, asnap_halo = cswl.getSnapshotZ(hd_z_halo)\n",
    "tmm = cswl.calTmm(cosmo, asnap_halo, zsnap_halo)"
   ]
  },
  {
   "cell_type": "code",
   "execution_count": 22,
   "id": "sublime-friend",
   "metadata": {},
   "outputs": [
    {
     "data": {
      "image/png": "[encoded data removed]",
      "text/plain": [
       "<Figure size 432x288 with 1 Axes>"
      ]
     },
     "metadata": {
      "needs_background": "light"
     },
     "output_type": "display_data"
    }
   ],
   "source": [
    "_ = plt.hist(tmm[tmm<0*u.Gyr].value, bins=20)\n",
    "plt.ylabel('Counts')\n",
    "plt.xlabel(r'$t_{\\rm MM} < 0$ Gyr values')\n",
    "plt.show()"
   ]
  },
  {
   "cell_type": "markdown",
   "id": "compatible-moment",
   "metadata": {},
   "source": [
    "Since the negative valuse are aprroaching the limit of the accuracy of the redshift, they are set to 0"
   ]
  },
  {
   "cell_type": "code",
   "execution_count": 24,
   "id": "overall-buyer",
   "metadata": {},
   "outputs": [],
   "source": [
    "tmm[tmm<0*u.Gyr] = 0"
   ]
  },
  {
   "cell_type": "markdown",
   "id": "standing-holly",
   "metadata": {},
   "source": [
    "Now we can replot the overall distribution of $t_{\\rm MM}$:"
   ]
  },
  {
   "cell_type": "code",
   "execution_count": 31,
   "id": "awful-brass",
   "metadata": {},
   "outputs": [
    {
     "data": {
      "image/png": "[encoded data removed]",
      "text/plain": [
       "<Figure size 432x288 with 1 Axes>"
      ]
     },
     "metadata": {
      "needs_background": "light"
     },
     "output_type": "display_data"
    }
   ],
   "source": [
    "_ = plt.hist(tmm[0].value, bins=20)\n",
    "plt.ylabel('Counts')\n",
    "plt.xlabel(r'$t_{\\rm MM} < 0$ Gyr values')\n",
    "plt.show()"
   ]
  }
 ],
 "metadata": {
  "kernelspec": {
   "display_name": "Python 3",
   "language": "python",
   "name": "python3"
  },
  "language_info": {
   "codemirror_mode": {
    "name": "ipython",
    "version": 3
   },
   "file_extension": ".py",
   "mimetype": "text/x-python",
   "name": "python",
   "nbconvert_exporter": "python",
   "pygments_lexer": "ipython3",
   "version": "3.7.10"
  }
 },
 "nbformat": 4,
 "nbformat_minor": 5
}

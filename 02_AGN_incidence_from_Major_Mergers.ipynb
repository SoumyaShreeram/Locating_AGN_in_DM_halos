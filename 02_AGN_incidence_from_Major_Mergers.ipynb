{
 "cells": [
  {
   "cell_type": "markdown",
   "id": "exciting-infrared",
   "metadata": {},
   "source": [
    "## 02. Creating a Major Merger (MM) catalogue to study AGN incidence due to galaxy mergers\n",
    "\n",
    "The notebook is divided into the following sections:\n",
    "1. Loading data and defining input parameters\n",
    "2. Studying sizes of haloes and sub-haloes\n",
    "\n",
    "**Script written by**: Soumya Shreeram <br>\n",
    "**Project supervised by**: Johan Comparat <br>\n",
    "**Date**: 30th March 2021"
   ]
  },
  {
   "cell_type": "markdown",
   "id": "wired-portugal",
   "metadata": {},
   "source": [
    "Import required packages"
   ]
  },
  {
   "cell_type": "code",
   "execution_count": 4,
   "id": "technical-chapel",
   "metadata": {},
   "outputs": [],
   "source": [
    "# scipy modules\n",
    "from scipy.spatial import KDTree\n",
    "from scipy.interpolate import interp1d\n",
    "\n",
    "# astropy modules\n",
    "import astropy.units as u\n",
    "import astropy.io.fits as fits\n",
    "from astropy.table import Table, Column\n",
    "from astropy.coordinates import SkyCoord\n",
    "from astropy.cosmology import FlatLambdaCDM, z_at_value\n",
    "\n",
    "import numpy as np\n",
    "\n",
    "# system imports\n",
    "import os\n",
    "import sys\n",
    "import importlib as ib\n",
    "\n",
    "# plotting imports\n",
    "import matplotlib"
   ]
  },
  {
   "cell_type": "markdown",
   "id": "executive-forge",
   "metadata": {},
   "source": [
    "Load the imported file(s) that contains all the functions used in this notebooks"
   ]
  },
  {
   "cell_type": "code",
   "execution_count": 5,
   "id": "retired-hollow",
   "metadata": {},
   "outputs": [],
   "source": [
    "%matplotlib inline\n",
    "font = {'family' : 'serif',\n",
    "        'weight' : 'medium',\n",
    "        'size'   : 20}\n",
    "matplotlib.rc('font', **font)"
   ]
  },
  {
   "cell_type": "code",
   "execution_count": null,
   "id": "varied-scroll",
   "metadata": {},
   "outputs": [],
   "source": [
    "sys.path.append('imported_files/')\n",
    "import Exploring_DM_Haloes as edh\n",
    "import Agn_incidence_from_Major_Mergers as aimm\n",
    "import plotting_aimm02 as pt"
   ]
  }
 ],
 "metadata": {
  "kernelspec": {
   "display_name": "Python 3",
   "language": "python",
   "name": "python3"
  },
  "language_info": {
   "codemirror_mode": {
    "name": "ipython",
    "version": 3
   },
   "file_extension": ".py",
   "mimetype": "text/x-python",
   "name": "python",
   "nbconvert_exporter": "python",
   "pygments_lexer": "ipython3",
   "version": "3.7.10"
  }
 },
 "nbformat": 4,
 "nbformat_minor": 5
}

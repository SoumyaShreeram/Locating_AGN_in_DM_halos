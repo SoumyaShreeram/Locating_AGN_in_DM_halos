{
 "cells": [
  {
   "cell_type": "markdown",
   "id": "exciting-infrared",
   "metadata": {},
   "source": [
    "## 02. Creating a Major Merger (MM) catalogue to study AGN incidence due to galaxy mergers\n",
    "\n",
    "The notebook is divided into the following sections:\n",
    "1. Loading data and defining input parameters\n",
    "2. Creating a Major Merger sample (MM) and finding pairs\n",
    "2. Studying merger fraction $f_{MM}$ as a function of redshift\n",
    "\n",
    "**Script written by**: Soumya Shreeram <br>\n",
    "**Project supervised by**: Johan Comparat <br>\n",
    "**Date**: 30th March 2021"
   ]
  },
  {
   "cell_type": "markdown",
   "id": "wired-portugal",
   "metadata": {},
   "source": [
    "Import required packages"
   ]
  },
  {
   "cell_type": "code",
   "execution_count": 1,
   "id": "technical-chapel",
   "metadata": {},
   "outputs": [],
   "source": [
    "# scipy modules\n",
    "from scipy.spatial import cKDTree\n",
    "from scipy.interpolate import interp1d\n",
    "\n",
    "# astropy modules\n",
    "import astropy.units as u\n",
    "import astropy.io.fits as fits\n",
    "from astropy.table import Table, Column\n",
    "from astropy.coordinates import SkyCoord\n",
    "from astropy.cosmology import FlatLambdaCDM, z_at_value\n",
    "\n",
    "import numpy as np\n",
    "\n",
    "# system imports\n",
    "import os\n",
    "import sys\n",
    "import importlib as ib\n",
    "\n",
    "# plotting imports\n",
    "import matplotlib"
   ]
  },
  {
   "cell_type": "markdown",
   "id": "executive-forge",
   "metadata": {},
   "source": [
    "Load the imported file(s) that contains all the functions used in this notebooks"
   ]
  },
  {
   "cell_type": "code",
   "execution_count": 2,
   "id": "retired-hollow",
   "metadata": {},
   "outputs": [],
   "source": [
    "%matplotlib inline\n",
    "font = {'family' : 'serif',\n",
    "        'weight' : 'medium',\n",
    "        'size'   : 20}\n",
    "matplotlib.rc('font', **font)"
   ]
  },
  {
   "cell_type": "code",
   "execution_count": 3,
   "id": "varied-scroll",
   "metadata": {},
   "outputs": [],
   "source": [
    "sys.path.append('imported_files/')\n",
    "import Exploring_DM_Haloes as edh\n",
    "import Agn_incidence_from_Major_Mergers as aimm\n",
    "import plotting_aimm02 as pt"
   ]
  },
  {
   "cell_type": "markdown",
   "id": "coral-uzbekistan",
   "metadata": {},
   "source": [
    "### 1. Defining input parameters"
   ]
  },
  {
   "cell_type": "code",
   "execution_count": 4,
   "id": "received-conversation",
   "metadata": {},
   "outputs": [],
   "source": [
    "# look back into redshifts until...\n",
    "redshift_limit = 0.2\n",
    "\n",
    "# agn parameters\n",
    "agn_FX_soft = 0\n",
    "\n",
    "# galaxy parameters\n",
    "galaxy_SMHMR_mass = 9 # unit: log 10, M_solar\n",
    "\n",
    "# halo parameters\n",
    "halo_mass_500c = 10**13.7 # solar masses\n",
    "central_Mvir = 13.7 # unit: log 10, M_solar\n",
    "cluster_params = [halo_mass_500c, central_Mvir]\n",
    "\n",
    "# array deciding the cuts in the merger times and their linestyles\n",
    "t_merger_cut_arr, l = [1, 2.5, 5], ['-', '--', ':']\n",
    "\n",
    "# pixel number from the simulation file\n",
    "pixel_no = '000000'\n",
    "\n",
    "# number of cluster files for the chosen pixel_no\n",
    "clu_files_no = 3"
   ]
  },
  {
   "cell_type": "markdown",
   "id": "square-attack",
   "metadata": {},
   "source": [
    "Define cosmology used in the notebook"
   ]
  },
  {
   "cell_type": "code",
   "execution_count": 5,
   "id": "eleven-software",
   "metadata": {},
   "outputs": [],
   "source": [
    "cosmo = FlatLambdaCDM(H0=67.77*u.km/u.s/u.Mpc, Om0=0.307115)\n",
    "h = 0.6777\n",
    "L_box = 1000.0 / h\n",
    "\n",
    "# interpolation function of z -> distance (depends on cosmology)\n",
    "redshift_step = 0.0001\n",
    "z_array = np.arange(0,redshift_limit+0.1, step=redshift_step)\n",
    "f_z_to_comoving_dist = interp1d(z_array, cosmo.comoving_distance(z_array))"
   ]
  },
  {
   "cell_type": "markdown",
   "id": "exciting-destruction",
   "metadata": {},
   "source": [
    "### 2. Open files and get relevant data"
   ]
  },
  {
   "cell_type": "code",
   "execution_count": 6,
   "id": "supposed-bones",
   "metadata": {},
   "outputs": [],
   "source": [
    "hd_agn, hd_halo, hd_clu = edh.getHeaders(pixel_no, np.array(['agn', 'halo', 'cluster']), clu_files_no=clu_files_no)"
   ]
  },
  {
   "cell_type": "markdown",
   "id": "blind-characterization",
   "metadata": {},
   "source": [
    "Extracting positions and redshifts of the AGNs, galaxies, and halos"
   ]
  },
  {
   "cell_type": "code",
   "execution_count": 7,
   "id": "silver-bullet",
   "metadata": {},
   "outputs": [
    {
     "name": "stdout",
     "output_type": "stream",
     "text": [
      "AGNs: 2295, Galaxies: 20438, Halos: 20438\n"
     ]
    }
   ],
   "source": [
    "# agns\n",
    "pos_z_AGN, scale_merger_AGN, conditions_agn = edh.getAgnData(hd_agn, agn_FX_soft, redshift_limit)    \n",
    "\n",
    "# galaxies and halos\n",
    "pos_z_gal, scale_merger_gal, conditions_gal = edh.getGalaxyData(hd_halo, galaxy_SMHMR_mass, redshift_limit)\n",
    "pos_z_halo, scale_merger_halo, conditions_halo = edh.getGalaxyData(hd_halo, '', redshift_limit)\n",
    "\n",
    "print(\"AGNs: %d, Galaxies: %d, Halos: %d\"%(len(pos_z_AGN[0]), len(pos_z_gal[0]), len(pos_z_halo[0]) ))"
   ]
  },
  {
   "cell_type": "markdown",
   "id": "capital-arctic",
   "metadata": {},
   "source": [
    "Classifying the headers into central and satellite objects"
   ]
  },
  {
   "cell_type": "code",
   "execution_count": 8,
   "id": "compatible-sheriff",
   "metadata": {},
   "outputs": [],
   "source": [
    "cen_sat_halo = edh.cenSatObjects(conditions_halo, hd_halo, cluster_params[1])\n",
    "cen_sat_AGN = edh.cenSatObjects(conditions_agn, hd_agn, cluster_params[1])"
   ]
  },
  {
   "cell_type": "markdown",
   "id": "billion-oxygen",
   "metadata": {},
   "source": [
    "### 3.  Creating a Major Merger sample i.e. finding pairs"
   ]
  },
  {
   "cell_type": "code",
   "execution_count": 9,
   "id": "departmental-observation",
   "metadata": {},
   "outputs": [],
   "source": [
    "# ratio of masses to call a merger a major merger\n",
    "mass_ratio_for_MM = 4\n",
    "\n",
    "# time since merger [Gyr]\n",
    "time_since_merger = 1"
   ]
  },
  {
   "cell_type": "code",
   "execution_count": 10,
   "id": "exciting-ambassador",
   "metadata": {},
   "outputs": [],
   "source": [
    "# generate mass bins for halos with M_1/M_2 < mass_ratio\n",
    "mass_bins = aimm.mergerBins(hd_halo, galaxy_SMHMR_mass, mass_ratio=mass_ratio_for_MM)\n",
    "\n",
    "# MM headers for halos ==> (1) given mass range and (2) given time since merger\n",
    "hd_mm_halo, mm_conditions = aimm.createMMcatalog(hd_halo, conditions_halo, cosmo, mass_range=[mass_bins[0], mass_bins[1]], time_since_merger=time_since_merger)"
   ]
  },
  {
   "cell_type": "code",
   "execution_count": null,
   "id": "spare-strength",
   "metadata": {},
   "outputs": [],
   "source": [
    "ib.reload(aimm)\n",
    "pairs_halo_mm = aimm.findPairs(hd_mm_halo, leafsize=1000.0)"
   ]
  },
  {
   "cell_type": "code",
   "execution_count": null,
   "id": "normal-player",
   "metadata": {},
   "outputs": [],
   "source": [
    "pairs_halo_mm"
   ]
  },
  {
   "cell_type": "code",
   "execution_count": null,
   "id": "organic-alias",
   "metadata": {},
   "outputs": [],
   "source": []
  }
 ],
 "metadata": {
  "kernelspec": {
   "display_name": "Python 3",
   "language": "python",
   "name": "python3"
  },
  "language_info": {
   "codemirror_mode": {
    "name": "ipython",
    "version": 3
   },
   "file_extension": ".py",
   "mimetype": "text/x-python",
   "name": "python",
   "nbconvert_exporter": "python",
   "pygments_lexer": "ipython3",
   "version": "3.7.10"
  }
 },
 "nbformat": 4,
 "nbformat_minor": 5
}

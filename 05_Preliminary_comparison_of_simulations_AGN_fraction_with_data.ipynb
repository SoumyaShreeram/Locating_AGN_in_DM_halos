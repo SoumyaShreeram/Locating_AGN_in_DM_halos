{
 "cells": [
  {
   "cell_type": "markdown",
   "id": "exciting-infrared",
   "metadata": {},
   "source": [
    "## 05. Preliminary comparison of the $f_{\\rm MM}$ between simulation and data\n",
    "\n",
    "The notebook is similar to the notebook 02, which builds a major merger catalog. However, here things are done slightly differently: (1) halo pairs are generated, (2) the criteria are applied, rather than the other way around (as shown in notebook 02).\n",
    "\n",
    "1. Loading data and defining input parameters\n",
    "2. Finding pairs and creating a major/minor sample\n",
    "2. Studying merger fraction $f_{MM}$ as a function of redshift\n",
    "\n",
    "**Script written by**: Soumya Shreeram <br>\n",
    "**Project supervised by**: Johan Comparat <br>\n",
    "**Date**: 23rd April 2021"
   ]
  },
  {
   "cell_type": "markdown",
   "id": "wired-portugal",
   "metadata": {},
   "source": [
    "Import required packages"
   ]
  },
  {
   "cell_type": "code",
   "execution_count": 1,
   "id": "technical-chapel",
   "metadata": {},
   "outputs": [],
   "source": [
    "# scipy modules\n",
    "from scipy.spatial import cKDTree\n",
    "from scipy.interpolate import interp1d\n",
    "\n",
    "# astropy modules\n",
    "import astropy.units as u\n",
    "import astropy.io.fits as fits\n",
    "\n",
    "from astropy.table import Table, Column\n",
    "from astropy.coordinates import SkyCoord\n",
    "from astropy.cosmology import FlatLambdaCDM, z_at_value\n",
    "\n",
    "import numpy as np\n",
    "\n",
    "# system imports\n",
    "import os\n",
    "import sys\n",
    "import importlib as ib\n",
    "\n",
    "# plotting imports\n",
    "import matplotlib\n",
    "import matplotlib.pyplot as plt\n",
    "import seaborn as sns"
   ]
  },
  {
   "cell_type": "markdown",
   "id": "executive-forge",
   "metadata": {},
   "source": [
    "Load the imported file(s) that contains all the functions used in this notebooks"
   ]
  },
  {
   "cell_type": "code",
   "execution_count": 2,
   "id": "retired-hollow",
   "metadata": {},
   "outputs": [],
   "source": [
    "%matplotlib inline\n",
    "font = {'family' : 'serif',\n",
    "        'weight' : 'medium',\n",
    "        'size'   : 20}\n",
    "matplotlib.rc('font', **font)"
   ]
  },
  {
   "cell_type": "code",
   "execution_count": 81,
   "id": "varied-scroll",
   "metadata": {},
   "outputs": [],
   "source": [
    "sys.path.append('imported_files/')\n",
    "import Agn_incidence_from_Major_Mergers as aimm\n",
    "import Comparison_simulation_with_literature_data as cswl\n",
    "import plotting_cswl05 as pt"
   ]
  },
  {
   "cell_type": "markdown",
   "id": "coral-uzbekistan",
   "metadata": {},
   "source": [
    "### 1. Defining input parameters"
   ]
  },
  {
   "cell_type": "code",
   "execution_count": 4,
   "id": "received-conversation",
   "metadata": {},
   "outputs": [],
   "source": [
    "# look back into redshifts until...\n",
    "redshift_limit = 2\n",
    "\n",
    "# agn parameters\n",
    "agn_FX_soft = 0\n",
    "\n",
    "# galaxy parameters\n",
    "galaxy_SMHMR_mass = 9 # unit: log 10, M_solar\n",
    "\n",
    "# halo parameters\n",
    "halo_mass_500c = 10**13.7 # solar masses\n",
    "central_Mvir = 13.7 # unit: log 10, M_solar\n",
    "cluster_params = [halo_mass_500c, central_Mvir]\n",
    "\n",
    "# array deciding the cuts in the merger times and their linestyles\n",
    "t_merger_cut_arr, l = [1, 2.5, 5], ['-', '--', ':']\n",
    "\n",
    "# pixel number from the simulation file\n",
    "pixel_no = '000000'\n",
    "\n",
    "# number of cluster files for the chosen pixel_no\n",
    "clu_files_no = 3\n",
    "\n",
    "# define color palatte\n",
    "pal = sns.hls_palette(10, h=.5, s=1).as_hex()"
   ]
  },
  {
   "cell_type": "markdown",
   "id": "square-attack",
   "metadata": {},
   "source": [
    "Define cosmology used in the notebook"
   ]
  },
  {
   "cell_type": "code",
   "execution_count": 5,
   "id": "eleven-software",
   "metadata": {},
   "outputs": [],
   "source": [
    "cosmo = FlatLambdaCDM(H0=67.77*u.km/u.s/u.Mpc, Om0=0.307115)\n",
    "h = 0.6777\n",
    "L_box = 1000.0 / h\n",
    "\n",
    "# interpolation function of z -> distance (depends on cosmology)\n",
    "redshift_step = 0.0001\n",
    "z_array = np.arange(0,redshift_limit+0.1, step=redshift_step)\n",
    "f_z_to_comoving_dist = interp1d(z_array, cosmo.comoving_distance(z_array))"
   ]
  },
  {
   "cell_type": "markdown",
   "id": "beautiful-garden",
   "metadata": {},
   "source": [
    "Parameters for creating the Major Merger catalogue."
   ]
  },
  {
   "cell_type": "code",
   "execution_count": 21,
   "id": "departmental-observation",
   "metadata": {},
   "outputs": [],
   "source": [
    "# ratio of masses to call a merger a major merger\n",
    "mass_ratio_for_MM = 4\n",
    "\n",
    "# time since merger [Gyr]\n",
    "time_since_merger = 5\n",
    "\n",
    "# time since merger array\n",
    "dt_m_arr = [0.5, 1, 2, 3, 4]"
   ]
  },
  {
   "cell_type": "markdown",
   "id": "exciting-destruction",
   "metadata": {},
   "source": [
    "### 2. Open files and get relevant data"
   ]
  },
  {
   "cell_type": "code",
   "execution_count": 7,
   "id": "supposed-bones",
   "metadata": {},
   "outputs": [],
   "source": [
    "hd_agn, hd_halo, _ = edh.getHeaders(pixel_no, np.array(['agn', 'halo']), clu_files_no=clu_files_no)"
   ]
  },
  {
   "cell_type": "markdown",
   "id": "blind-characterization",
   "metadata": {},
   "source": [
    "Extracting positions and redshifts of the AGNs, galaxies, and halos"
   ]
  },
  {
   "cell_type": "code",
   "execution_count": 8,
   "id": "silver-bullet",
   "metadata": {},
   "outputs": [
    {
     "name": "stdout",
     "output_type": "stream",
     "text": [
      "AGNs: 1076520, Galaxies: 4503234, Halos: 4506611\n"
     ]
    }
   ],
   "source": [
    "# agns\n",
    "pos_z_AGN, _, conditions_agn = edh.getAgnData(hd_agn, agn_FX_soft, redshift_limit)    \n",
    "\n",
    "# galaxies and halos\n",
    "pos_z_gal, _, conditions_gal = edh.getGalaxyData(hd_halo, galaxy_SMHMR_mass, redshift_limit)\n",
    "pos_z_halo, _, conditions_halo = edh.getGalaxyData(hd_halo, '', redshift_limit)\n",
    "\n",
    "print(\"AGNs: %d, Galaxies: %d, Halos: %d\"%(len(pos_z_AGN[0]), len(pos_z_gal[0]), len(pos_z_halo[0]) ))"
   ]
  },
  {
   "cell_type": "markdown",
   "id": "billion-oxygen",
   "metadata": {},
   "source": [
    "### 3.  Finding halo pairs\n",
    "\n",
    "Get the `hd_file` for all the halo pairs. A quick test to understand how many pairs exists as a function of separation (without any regards to $M^*$, $\\Delta t_{\\rm MM}$, and $\\Delta v$"
   ]
  },
  {
   "cell_type": "code",
   "execution_count": 88,
   "id": "correct-northern",
   "metadata": {},
   "outputs": [],
   "source": [
    "total_num_pairs = aimm.findPairs(hd_halo)"
   ]
  },
  {
   "cell_type": "markdown",
   "id": "banner-raising",
   "metadata": {},
   "source": [
    "Note that here the definition of fraction of halo pairs is different to that used later in the notebook."
   ]
  },
  {
   "cell_type": "code",
   "execution_count": 123,
   "id": "specified-caution",
   "metadata": {},
   "outputs": [
    {
     "data": {
      "image/png": "[encoded data removed]",
      "text/plain": [
       "<Figure size 504x432 with 1 Axes>"
      ]
     },
     "metadata": {
      "needs_background": "light"
     },
     "output_type": "display_data"
    }
   ],
   "source": [
    "fig, ax = plt.subplots(1, 1, figsize=(7,6))\n",
    "r_p, _, shell_volume = aimm.shellVolume()\n",
    "\n",
    "ax.plot( (1e3*r_p[1:]), total_num_pairs/shell_volume, 'kx')\n",
    "\n",
    "pt.setLabel(ax, r'Separation, $r$ [kpc]', r'$f_{\\rm halo\\ pairs}}$ [Mpc$^{-3}$]', '', 'default', 'default', legend=False)\n",
    "plt.savefig('figures/f_halo_pairs.pdf', facecolor='w', edgecolor='w', bbox_inches='tight')"
   ]
  },
  {
   "cell_type": "code",
   "execution_count": 9,
   "id": "detailed-reputation",
   "metadata": {},
   "outputs": [],
   "source": [
    "# get shell volume and projected radius bins\n",
    "r_p, dr_p, shell_volume = aimm.shellVolume()\n",
    "\n",
    "mass_max, dv_cut = 3, 500\n",
    "\n",
    "# if the pairs have already been computed before\n",
    "run_find_pairs = False"
   ]
  },
  {
   "cell_type": "markdown",
   "id": "turned-clearing",
   "metadata": {},
   "source": [
    "Default values at points:\n",
    "1. `mass_min = 0.33`, `mass_max = 3`\n",
    "2. `dv_cut = 500`  \n",
    "\n",
    "Can change these keywords in functions 1 and 2, respectively."
   ]
  },
  {
   "cell_type": "code",
   "execution_count": 11,
   "id": "exciting-ambassador",
   "metadata": {},
   "outputs": [
    {
     "name": "stdout",
     "output_type": "stream",
     "text": [
      "269220 pairs found among 4506611 halos; fraction of pairs: 0.0615\n",
      "Major merger 3 : 1 cut 137370 selected pairs\n",
      "Delta v 500 cut: 137370 selected pairs\n",
      "307575 pairs found among 4506611 halos; fraction of pairs: 0.0706\n",
      "Major merger 3 : 1 cut 157338 selected pairs\n",
      "Delta v 500 cut: 157338 selected pairs\n",
      "347100 pairs found among 4506611 halos; fraction of pairs: 0.0800\n",
      "Major merger 3 : 1 cut 178012 selected pairs\n",
      "Delta v 500 cut: 178012 selected pairs\n",
      "388113 pairs found among 4506611 halos; fraction of pairs: 0.0899\n",
      "Major merger 3 : 1 cut 199564 selected pairs\n",
      "Delta v 500 cut: 199564 selected pairs\n",
      "430101 pairs found among 4506611 halos; fraction of pairs: 0.1001\n",
      "Major merger 3 : 1 cut 221766 selected pairs\n",
      "Delta v 500 cut: 221766 selected pairs\n"
     ]
    }
   ],
   "source": [
    "if run_find_pairs:\n",
    "    for r in range(len(r_p)):\n",
    "        print('\\n ---- pairs with radius %.2f Mpc ---'%r_p[r])\n",
    "        pos_spherical = aimm.getSphericalCoord(hd_halo[conditions_halo])\n",
    "\n",
    "        # create tree\n",
    "        tree_data = cKDTree(np.transpose(np.abs(pos_spherical)), leafsize=1000.0)\n",
    "\n",
    "        # list of lists of all pair indicies per DM halo\n",
    "        pairs_idx = tree_data.query_ball_tree(tree_data, r=r_p[r], p=2) \n",
    "        count_pairs, _ = cswl.countPairs(pairs_idx) \n",
    "\n",
    "        # (1) choose only major pairs (major mergers)\n",
    "        all_mm_idx, count_major_pairs = cswl.majorMergerSelection(hd_halo[conditions_halo], pairs_idx)\n",
    "\n",
    "        # (2) choose only major pairs that satisfy the delta v criteria\n",
    "        all_dv_idx, count_dv_major_pairs = cswl.deltaVelSelection(hd_halo[conditions_halo], all_mm_idx)\n",
    "        \n",
    "        # save file\n",
    "        np.save('Data/pairs_z%d/pairs_idx_r%d_mm%d_dv%d.npy'%(redshift_limit, r, mass_max, dv_cut), all_dv_idx, allow_pickle=True)"
   ]
  },
  {
   "cell_type": "markdown",
   "id": "disciplinary-sierra",
   "metadata": {},
   "source": [
    "The pairs computed in the last step is written to the directory `'Data/pos_z2/'`. Here, the pair indicies generated from the ball tree algorithm are loaded for further analysis."
   ]
  },
  {
   "cell_type": "code",
   "execution_count": 49,
   "id": "constant-willow",
   "metadata": {},
   "outputs": [],
   "source": [
    "pairs_all = cswl.openPairsFiles()"
   ]
  },
  {
   "cell_type": "markdown",
   "id": "serial-recall",
   "metadata": {},
   "source": [
    "Apply the time since major merger criteria. Change keyword `t_since_merger = 1`."
   ]
  },
  {
   "cell_type": "code",
   "execution_count": 42,
   "id": "baking-burns",
   "metadata": {},
   "outputs": [],
   "source": [
    "count_t_mm_arr_all_radius = np.zeros( (0, len(r_p) ) )\n",
    "\n",
    "for dt_m in dt_m_arr:\n",
    "    count_t_mm_arr = []\n",
    "    \n",
    "    for r in range(len(r_p)):    \n",
    "        _, count_t_mm = cswl.defineTimeSinceMergeCut(hd_halo[conditions_halo], pairs_all[0][r], cosmo, time_since_merger = dt_m)\n",
    "        count_t_mm_arr.append(count_t_mm)\n",
    "    \n",
    "    # save the counts for all radius bins for a given time since merger\n",
    "    count_t_mm_arr_all_radius = np.append(count_t_mm_arr_all_radius, [count_t_mm_arr], axis=0)\n",
    "    \n",
    "np.save('Data/pairs_z%d/all_pairs_t_mm_r.npy'%(redshift_limit), count_t_mm_arr_all_radius, allow_pickle=True)"
   ]
  },
  {
   "cell_type": "markdown",
   "id": "recent-minority",
   "metadata": {},
   "source": [
    "### 4. Studying the effect of $\\Delta t_{\\rm merger}$ on MM pairs\n",
    "\n",
    "Now that all the pairs for the chosen cases of time since major mergers are computed, we can proceed to calculate the fraction of halo pairs for each case.\n",
    "\n",
    "$$f_{\\rm halo\\ pairs} = \\frac{\\rm NP}{\\rm N(N-1) \\times {\\rm Shell\\ volume}}$$\n",
    "\n",
    "where $NP$ is the number of pairs and $N$ is the total number of objects from which pairs are chosen."
   ]
  },
  {
   "cell_type": "code",
   "execution_count": 80,
   "id": "placed-austria",
   "metadata": {},
   "outputs": [
    {
     "data": {
      "image/png": "[encoded data removed]",
      "text/plain": [
       "<Figure size 504x432 with 1 Axes>"
      ]
     },
     "metadata": {
      "needs_background": "light"
     },
     "output_type": "display_data"
    }
   ],
   "source": [
    "f_pairs, f_pairs_err = cswl.nPairsToFracPairs(hd_halo[conditions_halo], pairs_all[1])\n",
    "\n",
    "fig, ax = plt.subplots(1,1,figsize=(7,6))\n",
    "\n",
    "# changing all unit to kpc\n",
    "r_p_kpc, f_pairs = 1e3*r_p[1:], 1e9*f_pairs\n",
    "\n",
    "# plotting the results\n",
    "ax.plot( r_p_kpc , f_pairs, 'ks')\n",
    "ax.errorbar(r_p_kpc , np.array(f_pairs), yerr=f_pairs_err, ecolor='k', fmt='none', capsize=4.5)\n",
    "\n",
    "pt.setLabel(ax, r'Separation, $r$ [kpc]', r'$f_{\\rm halo\\ pairs}}$ [kpc$^{-3}$]', '', 'default', 'default', legend=False)\n",
    "plt.savefig('figures/f_halo_pairs.pdf', facecolor='w', edgecolor='w', bbox_inches='tight')"
   ]
  },
  {
   "cell_type": "code",
   "execution_count": 117,
   "id": "cathedral-seminar",
   "metadata": {},
   "outputs": [
    {
     "data": {
      "image/png": "[encoded data removed]",
      "text/plain": [
       "<Figure size 504x432 with 1 Axes>"
      ]
     },
     "metadata": {
      "needs_background": "light"
     },
     "output_type": "display_data"
    }
   ],
   "source": [
    "fig, ax = plt.subplots(1,1,figsize=(7,6))\n",
    "pal = sns.color_palette(\"hls\", len(dt_m_arr)+1).as_hex()\n",
    "errorbars = [False, False, False, False, False]\n",
    "\n",
    "for t_idx in range(len(dt_m_arr)):\n",
    "    n_pairs_dt = count_t_mm_arr_all_radius[t_idx]\n",
    "    f_p, f_p_err = cswl.nPairsToFracPairs(hd_halo, n_pairs_dt)\n",
    "    ax = pt.plotFpairs(ax, r_p, np.array(f_p), f_p_err, label = r'$t_{\\rm MM}$ = %.1f Gyr'%dt_m_arr[t_idx], color=pal[t_idx], errorbar = errorbars[t_idx])\n",
    "    \n",
    "pt.setLabel(ax, r'Separation, $r$ [kpc]', r'$f_{\\rm halo\\ pairs}}$ [kpc$^{-3}$]', '', 'default', 'default', legend=True)\n",
    "plt.savefig('figures/f_halo_pairs_dt.pdf', facecolor='w', edgecolor='w', bbox_inches='tight')"
   ]
  },
  {
   "cell_type": "code",
   "execution_count": null,
   "id": "inside-screen",
   "metadata": {},
   "outputs": [],
   "source": []
  }
 ],
 "metadata": {
  "kernelspec": {
   "display_name": "Python 3",
   "language": "python",
   "name": "python3"
  },
  "language_info": {
   "codemirror_mode": {
    "name": "ipython",
    "version": 3
   },
   "file_extension": ".py",
   "mimetype": "text/x-python",
   "name": "python",
   "nbconvert_exporter": "python",
   "pygments_lexer": "ipython3",
   "version": "3.7.10"
  }
 },
 "nbformat": 4,
 "nbformat_minor": 5
}

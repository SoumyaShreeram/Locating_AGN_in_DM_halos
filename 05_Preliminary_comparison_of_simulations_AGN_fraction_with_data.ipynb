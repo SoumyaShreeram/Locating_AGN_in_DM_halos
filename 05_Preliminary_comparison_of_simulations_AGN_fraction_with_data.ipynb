{
 "cells": [
  {
   "cell_type": "markdown",
   "id": "exciting-infrared",
   "metadata": {},
   "source": [
    "## 05. Preliminary comparison of the $f_{\\rm MM}$ between simulation and data\n",
    "\n",
    "The notebook is similar to the notebook 02, which builds a major merger catalog. However, here things are done slightly differently: (1) halo pairs are generated, (2) the criteria are applied, rather than the other way around (as shown in notebook 02).\n",
    "\n",
    "1. Loading data and defining input parameters\n",
    "2. Finding pairs and creating a major/minor sample\n",
    "2. Studying merger fraction $f_{MM}$ as a function of redshift\n",
    "\n",
    "**Script written by**: Soumya Shreeram <br>\n",
    "**Project supervised by**: Johan Comparat <br>\n",
    "**Date**: 23rd April 2021"
   ]
  },
  {
   "cell_type": "markdown",
   "id": "wired-portugal",
   "metadata": {},
   "source": [
    "Import required packages"
   ]
  },
  {
   "cell_type": "code",
   "execution_count": 1,
   "id": "technical-chapel",
   "metadata": {},
   "outputs": [],
   "source": [
    "# scipy modules\n",
    "from scipy.spatial import cKDTree\n",
    "from scipy.interpolate import interp1d\n",
    "\n",
    "# astropy modules\n",
    "import astropy.units as u\n",
    "import astropy.io.fits as fits\n",
    "\n",
    "from astropy.table import Table, Column\n",
    "from astropy.coordinates import SkyCoord\n",
    "from astropy.cosmology import FlatLambdaCDM, z_at_value\n",
    "\n",
    "import numpy as np\n",
    "\n",
    "# system imports\n",
    "import os\n",
    "import sys\n",
    "import importlib as ib\n",
    "\n",
    "# plotting imports\n",
    "import matplotlib\n",
    "import matplotlib.pyplot as plt\n",
    "import seaborn as sns"
   ]
  },
  {
   "cell_type": "markdown",
   "id": "executive-forge",
   "metadata": {},
   "source": [
    "Load the imported file(s) that contains all the functions used in this notebooks"
   ]
  },
  {
   "cell_type": "code",
   "execution_count": 2,
   "id": "retired-hollow",
   "metadata": {},
   "outputs": [],
   "source": [
    "%matplotlib inline\n",
    "font = {'family' : 'serif',\n",
    "        'weight' : 'medium',\n",
    "        'size'   : 20}\n",
    "matplotlib.rc('font', **font)"
   ]
  },
  {
   "cell_type": "code",
   "execution_count": 3,
   "id": "varied-scroll",
   "metadata": {},
   "outputs": [],
   "source": [
    "sys.path.append('imported_files/')\n",
    "import Exploring_DM_Halos as edh\n",
    "import Agn_incidence_from_Major_Mergers as aimm\n",
    "import Comparison_simulation_with_literature_data as cswl\n",
    "import plotting_cswl05 as pt"
   ]
  },
  {
   "cell_type": "markdown",
   "id": "coral-uzbekistan",
   "metadata": {},
   "source": [
    "### 1. Defining input parameters"
   ]
  },
  {
   "cell_type": "code",
   "execution_count": 4,
   "id": "received-conversation",
   "metadata": {},
   "outputs": [],
   "source": [
    "# look back into redshifts until...\n",
    "redshift_limit = 2\n",
    "\n",
    "# agn parameters\n",
    "agn_FX_soft = 0\n",
    "\n",
    "# galaxy parameters\n",
    "galaxy_SMHMR_mass = 9 # unit: log 10, M_solar\n",
    "\n",
    "# halo parameters\n",
    "halo_mass_500c = 10**13.7 # solar masses\n",
    "central_Mvir = 13.7 # unit: log 10, M_solar\n",
    "cluster_params = [halo_mass_500c, central_Mvir]\n",
    "\n",
    "# pixel number from the simulation file\n",
    "pixel_no = '000000'\n",
    "\n",
    "# number of cluster files for the chosen pixel_no\n",
    "clu_files_no = 3\n",
    "\n",
    "# define color palatte\n",
    "pal = sns.hls_palette(10, h=.5, s=1).as_hex()"
   ]
  },
  {
   "cell_type": "markdown",
   "id": "square-attack",
   "metadata": {},
   "source": [
    "Define cosmology used in the notebook"
   ]
  },
  {
   "cell_type": "code",
   "execution_count": 5,
   "id": "eleven-software",
   "metadata": {},
   "outputs": [],
   "source": [
    "cosmo = FlatLambdaCDM(H0=67.77*u.km/u.s/u.Mpc, Om0=0.307115)\n",
    "h = 0.6777\n",
    "L_box = 1000.0 / h"
   ]
  },
  {
   "cell_type": "markdown",
   "id": "beautiful-garden",
   "metadata": {},
   "source": [
    "Parameters for creating the Major Merger catalogue."
   ]
  },
  {
   "cell_type": "code",
   "execution_count": 24,
   "id": "detailed-reputation",
   "metadata": {},
   "outputs": [],
   "source": [
    "# get shell volume and projected radius bins [Mpc]\n",
    "r_p, dr_p, shell_volume = aimm.shellVolume()\n",
    "\n",
    "# time since merger [Gyr]\n",
    "time_since_merger = 5\n",
    "\n",
    "# time since merger array [Gyr]\n",
    "dt_m_arr = [0.5, 1, 2, 3, 4]\n",
    "\n",
    "# max mass ratio to classify as a major merger [dimensionless]\n",
    "mass_max = 3\n",
    "\n",
    "# defining the redshift bin for a merger in terms of dv = c*z [km/s]\n",
    "dv_cut =  500\n",
    "\n",
    "# BOOLEANS: if the pairs have already been computed before\n",
    "run_find_pairs = True\n",
    "\n",
    "# BOOLEAN: if we want to find all pairs (not just major pairs)\n",
    "major_mergers_only = False\n",
    "\n",
    "# BOOLEAN: if we want to find pairs passing the time since merger criteria\n",
    "run_merger_pairs = False"
   ]
  },
  {
   "cell_type": "markdown",
   "id": "exciting-destruction",
   "metadata": {},
   "source": [
    "### 2. Open files and get relevant data"
   ]
  },
  {
   "cell_type": "code",
   "execution_count": 7,
   "id": "supposed-bones",
   "metadata": {},
   "outputs": [],
   "source": [
    "hd_agn, hd_halo, _ = edh.getHeaders(pixel_no, np.array(['agn', 'halo']), clu_files_no=clu_files_no)"
   ]
  },
  {
   "cell_type": "markdown",
   "id": "blind-characterization",
   "metadata": {},
   "source": [
    "Extracting positions and redshifts of the AGNs, galaxies, and halos"
   ]
  },
  {
   "cell_type": "code",
   "execution_count": 8,
   "id": "silver-bullet",
   "metadata": {},
   "outputs": [
    {
     "name": "stdout",
     "output_type": "stream",
     "text": [
      "AGNs: 1076520, Galaxies: 4503234, Halos: 4506611\n"
     ]
    }
   ],
   "source": [
    "# agns\n",
    "pos_z_AGN, _, conditions_agn = edh.getAgnData(hd_agn, agn_FX_soft, redshift_limit)    \n",
    "\n",
    "# galaxies and halos\n",
    "pos_z_gal, _, conditions_gal = edh.getGalaxyData(hd_halo, galaxy_SMHMR_mass, redshift_limit)\n",
    "pos_z_halo, _, conditions_halo = edh.getGalaxyData(hd_halo, '', redshift_limit)\n",
    "\n",
    "print(\"AGNs: %d, Galaxies: %d, Halos: %d\"%(len(pos_z_AGN[0]), len(pos_z_gal[0]), len(pos_z_halo[0]) ))"
   ]
  },
  {
   "cell_type": "markdown",
   "id": "billion-oxygen",
   "metadata": {},
   "source": [
    "### 3.  Finding halo pairs\n",
    "\n",
    "Get the `hd_file` for all the halo pairs. A quick test to understand how many pairs exists as a function of separation (without any regards to $M^*$, $\\Delta t_{\\rm MM}$, and $\\Delta v$"
   ]
  },
  {
   "cell_type": "code",
   "execution_count": null,
   "id": "correct-northern",
   "metadata": {},
   "outputs": [],
   "source": [
    "total_num_pairs = aimm.findPairs(hd_halo[conditions_halo])"
   ]
  },
  {
   "cell_type": "markdown",
   "id": "banner-raising",
   "metadata": {},
   "source": [
    "Note that here the definition of fraction of halo pairs is different to that used later in the notebook."
   ]
  },
  {
   "cell_type": "code",
   "execution_count": null,
   "id": "specified-caution",
   "metadata": {},
   "outputs": [],
   "source": [
    "fig, ax = plt.subplots(1, 1, figsize=(7,6))\n",
    "\n",
    "# normalization\n",
    "r_p, _, shell_volume = aimm.shellVolume()\n",
    "N = len(hd_halo[conditions_halo])*(len(hd_halo[conditions_halo])-1)\n",
    "\n",
    "# converting all units to kpc [vol: pc -> kpc; radius: Mpc -> kpc]\n",
    "\n",
    "ax.plot( (1e3*r_p[1:]), total_num_pairs/(N*shell_volume*1e9), 'kx')\n",
    "\n",
    "pt.setLabel(ax, r'Separation, $r$ [kpc]', r'$f_{\\rm halo\\ pairs}}$ [Mpc$^{-3}$]', '', 'default', 'default', legend=False)\n",
    "plt.savefig('figures/f_halo_pairs.pdf', facecolor='w', edgecolor='w', bbox_inches='tight')"
   ]
  },
  {
   "cell_type": "markdown",
   "id": "turned-clearing",
   "metadata": {},
   "source": [
    "Default values at points:\n",
    "1. `mass_min = 0.33`, `mass_max = 3`\n",
    "2. `dv_cut = 500`  \n",
    "\n",
    "Can change these keywords in functions 1 and 2, respectively."
   ]
  },
  {
   "cell_type": "code",
   "execution_count": 11,
   "id": "exciting-ambassador",
   "metadata": {},
   "outputs": [
    {
     "name": "stdout",
     "output_type": "stream",
     "text": [
      "\n",
      " ---- pairs within radius 0.11 Mpc ---\n",
      "269220 pairs found among 4506611 halos; fraction of pairs: 0.0615\n",
      "Delta v 500 cut: 5520 selected pairs\n"
     ]
    }
   ],
   "source": [
    "if run_find_pairs:\n",
    "    for r in [11]:\n",
    "        print('\\n ---- pairs within radius %.2f Mpc ---'%r_p[r])\n",
    "        pos_spherical = aimm.getSphericalCoord(hd_halo[conditions_halo])\n",
    "\n",
    "        # create tree\n",
    "        tree_data = cKDTree(np.transpose(np.abs(pos_spherical)), leafsize=1000.0)\n",
    "\n",
    "        # list of lists of all pair indicies per DM halo\n",
    "        pairs_idx = tree_data.query_ball_tree(tree_data, r=r_p[r], p=2) \n",
    "        count_pairs, _ = cswl.countPairs(pairs_idx) \n",
    "        \n",
    "        if major_mergers_only:\n",
    "            # (1) choose only major pairs (major mergers)\n",
    "            all_mm_idx, count_major_pairs = cswl.majorMergerSelection(hd_halo[conditions_halo], pairs_idx)\n",
    "            pairs_idx = all_mm_idx\n",
    "            \n",
    "        # (2) choose only major pairs that satisfy the delta v criteria\n",
    "        all_dv_idx, count_dv_major_pairs = cswl.deltaVelSelection(hd_halo[conditions_halo], pairs_idx, mm = major_mergers_only)\n",
    "        \n",
    "        # save file\n",
    "        np.save('Data/pairs_z%d/pairs_idx_r%d_mm%d_dv%d.npy'%(redshift_limit, r, mass_max, dv_cut), all_dv_idx, allow_pickle=True)"
   ]
  },
  {
   "cell_type": "markdown",
   "id": "disciplinary-sierra",
   "metadata": {},
   "source": [
    "The pairs computed in the last step is written to the directory `'Data/pos_z2/'`. Here, the pair indicies generated from the ball tree algorithm are loaded for further analysis."
   ]
  },
  {
   "cell_type": "code",
   "execution_count": 50,
   "id": "constant-willow",
   "metadata": {},
   "outputs": [],
   "source": [
    "pairs_all = cswl.openPairsFiles(data_dir='Data/pairs_z2/')\n",
    "pairs_mm_all = cswl.openPairsFiles(data_dir='Data/pairs_z2/Major_pairs/')"
   ]
  },
  {
   "cell_type": "markdown",
   "id": "serial-recall",
   "metadata": {},
   "source": [
    "Apply the time since major merger criteria. Change keyword `t_since_merger = 1`."
   ]
  },
  {
   "cell_type": "code",
   "execution_count": null,
   "id": "baking-burns",
   "metadata": {},
   "outputs": [],
   "source": [
    "if run_merger_pairs:\n",
    "    count_t_mm_arr_all_radius = np.zeros( (0, len(r_p) ) )\n",
    "\n",
    "    for dt_m in dt_m_arr[0:1]:\n",
    "        count_t_mm_arr = []\n",
    "\n",
    "        for r in range(len(r_p)):    \n",
    "            _, count_t_mm = cswl.defineTimeSinceMergeCut(hd_halo[conditions_halo], pairs_all[0][r], cosmo, time_since_merger = dt_m)\n",
    "            count_t_mm_arr.append(count_t_mm)\n",
    "\n",
    "        # save the counts for all radius bins for a given time since merger\n",
    "        count_t_mm_arr_all_radius = np.append(count_t_mm_arr_all_radius, [count_t_mm_arr], axis=0)\n",
    "\n",
    "    np.save('Data/pairs_z%d/all_pairs_t_mm%.1f_r.npy'%(redshift_limit, dt_m), count_t_mm_arr_all_radius, allow_pickle=True)\n",
    "else:\n",
    "    ib.reload(cswl)\n",
    "    #n_pairs_t_mm_all = cswl.concatAllTmmFiles(dt_m_arr)\n",
    "    n_pairs_mm_t_mm_all = cswl.concatAllTmmFiles(dt_m_arr, data_dir = 'Data/pairs_z2/Major_pairs/')"
   ]
  },
  {
   "cell_type": "markdown",
   "id": "recent-minority",
   "metadata": {},
   "source": [
    "### 4. Studying the effect of $\\Delta t_{\\rm merger}$ on MM pairs\n",
    "\n",
    "Now that all the pairs for the chosen cases of time since major mergers are computed, we can proceed to calculate the fraction of halo pairs for each case.\n",
    "\n",
    "$$f_{\\rm halo\\ pairs} = \\frac{\\rm NP}{\\rm N(N-1) \\times {\\rm Shell\\ volume}}$$\n",
    "\n",
    "where $NP$ is the number of pairs and $N$ is the total number of objects from which pairs are chosen."
   ]
  },
  {
   "cell_type": "code",
   "execution_count": 51,
   "id": "placed-austria",
   "metadata": {
    "scrolled": true
   },
   "outputs": [
    {
     "data": {
      "image/png": "[encoded data removed]",
      "text/plain": [
       "<Figure size 504x432 with 1 Axes>"
      ]
     },
     "metadata": {
      "needs_background": "light"
     },
     "output_type": "display_data"
    }
   ],
   "source": [
    "ib.reload(cswl)\n",
    "f_pairs, f_pairs_err = cswl.nPairsToFracPairs(hd_halo[conditions_halo], pairs_all[1])\n",
    "f_mm_pairs, f_pairs_mm_err = cswl.nPairsToFracPairs(hd_halo[conditions_halo], pairs_mm_all[1])\n",
    "\n",
    "fig, ax = plt.subplots(1,1,figsize=(7,6))\n",
    "\n",
    "# changing all unit to kpc\n",
    "r_p_kpc, f_pairs, f_mm_pairs = 1e3*r_p[1:], 1e9*f_pairs, 1e9*f_mm_pairs\n",
    "\n",
    "# plotting the results\n",
    "all_pairs = ax.plot( r_p_kpc , f_pairs, 'd')\n",
    "mm_pairs =  ax.plot( r_p_kpc , f_mm_pairs, 'd', color='#8a0b48')\n",
    "\n",
    "# errorbars\n",
    "ax.errorbar(r_p_kpc , np.array(f_pairs), yerr=f_pairs_err, ecolor='#2f2357', fmt='none', capsize=4.5)\n",
    "ax.errorbar(r_p_kpc , np.array(f_mm_pairs), yerr=f_pairs_mm_err, ecolor='#2f2357', fmt='none', capsize=4.5)\n",
    "\n",
    "pt.setLabel(ax, r'Separation, $r$ [kpc]', r'$f_{\\rm halo\\ pairs}}$ [kpc$^{-3}$]', '', 'default', 'default', legend=False)\n",
    "plt.savefig('figures/f_halo_pairs.pdf', facecolor='w', edgecolor='w', bbox_inches='tight')"
   ]
  },
  {
   "cell_type": "markdown",
   "id": "veterinary-kuwait",
   "metadata": {},
   "source": [
    "Plot shows that the major merger (mass ratio) criteria encompasses the $\\Delta v$ criterion in redshift. So by imposing mass ratio, we are automatically selecting only those pairs that are close to each other in redshfit i.e. $\\Delta v = c \\Delta z$."
   ]
  },
  {
   "cell_type": "code",
   "execution_count": 40,
   "id": "cathedral-seminar",
   "metadata": {},
   "outputs": [
    {
     "data": {
      "image/png": "[encoded data removed]",
      "text/plain": [
       "<Figure size 504x432 with 1 Axes>"
      ]
     },
     "metadata": {
      "needs_background": "light"
     },
     "output_type": "display_data"
    }
   ],
   "source": [
    "fig, ax = plt.subplots(1,1,figsize=(7,6))\n",
    "pal = sns.color_palette(\"hls\", len(dt_m_arr)+1).as_hex()\n",
    "errorbars = [False, False, False, False, False]\n",
    "\n",
    "for t_idx in range(len(dt_m_arr)):\n",
    "    n_pairs_dt = n_pairs_t_mm_all[t_idx]\n",
    "    f_p, f_p_err = cswl.nPairsToFracPairs(hd_halo[conditions_halo], n_pairs_dt)\n",
    "    ax = pt.plotFpairs(ax, r_p, np.array(f_p), f_p_err, label = r'$t_{\\rm MM}$ = %.1f Gyr'%dt_m_arr[t_idx], color=pal[t_idx], errorbar = errorbars[t_idx])\n",
    "    \n",
    "pt.setLabel(ax, r'Separation, $r$ [kpc]', r'$f_{\\rm halo\\ pairs}}$ [kpc$^{-3}$]', '', 'default', 'default', legend=True)\n",
    "plt.savefig('figures/f_halo_pairs_dt.pdf', facecolor='w', edgecolor='w', bbox_inches='tight')"
   ]
  },
  {
   "cell_type": "markdown",
   "id": "fitting-outside",
   "metadata": {},
   "source": [
    "Since it seems that the $t_{\\rm MM}$ criteria cuts off most of the pairs, let's look at the distribution of the scale factor of the chosen pairs."
   ]
  },
  {
   "cell_type": "code",
   "execution_count": 55,
   "id": "inside-screen",
   "metadata": {},
   "outputs": [],
   "source": [
    "halo_m_scale_arr_all_r = cswl.getAllMMscales(hd_halo[conditions_halo], pairs_mm_all, r_p)"
   ]
  },
  {
   "cell_type": "markdown",
   "id": "based-tractor",
   "metadata": {},
   "source": [
    "The selection applied is to choose pairs > $t_{\\rm MM}$ lines. "
   ]
  },
  {
   "cell_type": "code",
   "execution_count": 71,
   "id": "royal-foundation",
   "metadata": {},
   "outputs": [
    {
     "data": {
      "image/png": "[encoded data removed]",
      "text/plain": [
       "<Figure size 504x432 with 1 Axes>"
      ]
     },
     "metadata": {
      "needs_background": "light"
     },
     "output_type": "display_data"
    }
   ],
   "source": [
    "pt.plotScaleMMdistribution(halo_m_scale_arr_all_r, cosmo, dt_m_arr)"
   ]
  },
  {
   "cell_type": "code",
   "execution_count": null,
   "id": "wrong-adapter",
   "metadata": {},
   "outputs": [],
   "source": []
  }
 ],
 "metadata": {
  "kernelspec": {
   "display_name": "Python 3",
   "language": "python",
   "name": "python3"
  },
  "language_info": {
   "codemirror_mode": {
    "name": "ipython",
    "version": 3
   },
   "file_extension": ".py",
   "mimetype": "text/x-python",
   "name": "python",
   "nbconvert_exporter": "python",
   "pygments_lexer": "ipython3",
   "version": "3.7.10"
  }
 },
 "nbformat": 4,
 "nbformat_minor": 5
}
